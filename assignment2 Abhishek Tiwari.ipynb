{
 "cells": [
  {
   "cell_type": "code",
   "execution_count": null,
   "id": "8a062417",
   "metadata": {},
   "outputs": [],
   "source": [
    "Q1\n",
    "boolean in python are true and false.\n",
    "written as True & False"
   ]
  },
  {
   "cell_type": "code",
   "execution_count": null,
   "id": "cde3246a",
   "metadata": {},
   "outputs": [],
   "source": [
    "Q2\n",
    "boolean operators are not , and , or"
   ]
  },
  {
   "cell_type": "code",
   "execution_count": null,
   "id": "9f3ffe51",
   "metadata": {},
   "outputs": [],
   "source": [
    "Q3\n",
    "True and True = True\n",
    "True and False = False\n",
    "False and True = False\n",
    "False and False = False\n",
    "\n",
    "True or True = True\n",
    "True or False = True\n",
    "False or True = True\n",
    "False or False = False"
   ]
  },
  {
   "cell_type": "code",
   "execution_count": null,
   "id": "7290448f",
   "metadata": {},
   "outputs": [],
   "source": [
    "Q4\n",
    "sequence wise answers\n",
    "False\n",
    "False\n",
    "True\n",
    "False\n",
    "False\n",
    "True"
   ]
  },
  {
   "cell_type": "code",
   "execution_count": null,
   "id": "6f66adf6",
   "metadata": {},
   "outputs": [],
   "source": [
    "Q5\n",
    "< , > ,== , <= ,>=, !="
   ]
  },
  {
   "cell_type": "code",
   "execution_count": null,
   "id": "46895cf0",
   "metadata": {},
   "outputs": [],
   "source": [
    "Q6\n",
    "equal to == (used as comparison operator)\n",
    "assignment operator = (used for variable assignment)\n",
    "\n",
    "eg: a == 5 it will check weather both sides having equal values\n",
    "    a = 5  it will assign a's value to 5"
   ]
  },
  {
   "cell_type": "code",
   "execution_count": null,
   "id": "709dc528",
   "metadata": {},
   "outputs": [],
   "source": [
    "Q7\n",
    "sorry sir\n",
    "didnt get the question!"
   ]
  },
  {
   "cell_type": "code",
   "execution_count": 15,
   "id": "86d45c33",
   "metadata": {},
   "outputs": [
    {
     "name": "stdout",
     "output_type": "stream",
     "text": [
      "howdy\n"
     ]
    }
   ],
   "source": [
    "#Q8\n",
    "spam = 2\n",
    "if spam == 1:\n",
    "    print('hello')\n",
    "elif spam == 2:\n",
    "    print('howdy')\n",
    "else:\n",
    "    print('greetings')"
   ]
  },
  {
   "cell_type": "code",
   "execution_count": null,
   "id": "01dc143f",
   "metadata": {},
   "outputs": [],
   "source": [
    "Q9\n",
    "ctrl + c"
   ]
  },
  {
   "cell_type": "code",
   "execution_count": null,
   "id": "2ac54bfd",
   "metadata": {},
   "outputs": [],
   "source": [
    "Q10\n",
    "break terminates the program from onwards\n",
    "continue brings the program to next iteration leaving the present\n",
    "iteration."
   ]
  },
  {
   "cell_type": "code",
   "execution_count": null,
   "id": "b4effbf7",
   "metadata": {},
   "outputs": [],
   "source": [
    "Q11\n",
    "all are representing same expression."
   ]
  },
  {
   "cell_type": "code",
   "execution_count": null,
   "id": "9c0a0e88",
   "metadata": {},
   "outputs": [],
   "source": [
    "Q12\n",
    "prog in for loop:\n",
    "for i in range(1,11):\n",
    "    print(i)\n",
    "    \n",
    "    \n",
    "prog in while loop:\n",
    "a=1\n",
    "n=11\n",
    "while a < n:\n",
    "    print(a)\n",
    "    a=a+1"
   ]
  },
  {
   "cell_type": "code",
   "execution_count": null,
   "id": "7b240830",
   "metadata": {},
   "outputs": [],
   "source": [
    "Q13\n",
    "bacon()"
   ]
  }
 ],
 "metadata": {
  "kernelspec": {
   "display_name": "Python 3 (ipykernel)",
   "language": "python",
   "name": "python3"
  },
  "language_info": {
   "codemirror_mode": {
    "name": "ipython",
    "version": 3
   },
   "file_extension": ".py",
   "mimetype": "text/x-python",
   "name": "python",
   "nbconvert_exporter": "python",
   "pygments_lexer": "ipython3",
   "version": "3.9.12"
  }
 },
 "nbformat": 4,
 "nbformat_minor": 5
}
