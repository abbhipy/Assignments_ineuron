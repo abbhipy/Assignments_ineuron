{
 "cells": [
  {
   "cell_type": "code",
   "execution_count": 5,
   "id": "91d91f5a",
   "metadata": {},
   "outputs": [],
   "source": [
    "Q1:\n",
    "values are 'hello' , -87.8, 6\n",
    "expressiona are * , - , / , +   "
   ]
  },
  {
   "cell_type": "code",
   "execution_count": null,
   "id": "2a9779d5",
   "metadata": {},
   "outputs": [],
   "source": [
    "Q2:\n",
    "string is written under '', \"\",\"\"\" \"\"\"(quotes)\n",
    "variables are standalone."
   ]
  },
  {
   "cell_type": "code",
   "execution_count": null,
   "id": "d1addd90",
   "metadata": {},
   "outputs": [],
   "source": [
    "Q3:\n",
    "data types are string str , integer int, floating numbers floating"
   ]
  },
  {
   "cell_type": "code",
   "execution_count": null,
   "id": "aeecc5f1",
   "metadata": {},
   "outputs": [],
   "source": [
    "Q4:\n",
    "expressions are made up of variable and a data type with or without \n",
    "conditions and can performs operations . they hold some or other kind\n",
    "of data that might concludes to a output. "
   ]
  },
  {
   "cell_type": "code",
   "execution_count": null,
   "id": "f7756595",
   "metadata": {},
   "outputs": [],
   "source": [
    "Q5:\n",
    "expression is written with some variables , operations,  conditions i.e. it \n",
    "can result in output ,its actionable.eg. 2*5 or 'sudh' * 3\n",
    "\n",
    "statement on other hand is  the command\n",
    "we use to evaluate an expression. eg. print()"
   ]
  },
  {
   "cell_type": "code",
   "execution_count": 10,
   "id": "d7146543",
   "metadata": {},
   "outputs": [
    {
     "data": {
      "text/plain": [
       "23"
      ]
     },
     "execution_count": 10,
     "metadata": {},
     "output_type": "execute_result"
    }
   ],
   "source": [
    "b=22\n",
    "b+1"
   ]
  },
  {
   "cell_type": "code",
   "execution_count": 12,
   "id": "8a788bf0",
   "metadata": {},
   "outputs": [
    {
     "data": {
      "text/plain": [
       "22"
      ]
     },
     "execution_count": 12,
     "metadata": {},
     "output_type": "execute_result"
    }
   ],
   "source": [
    "b"
   ]
  },
  {
   "cell_type": "code",
   "execution_count": null,
   "id": "5f7e826b",
   "metadata": {},
   "outputs": [],
   "source": [
    "Q6\n",
    "bacon contains 22"
   ]
  },
  {
   "cell_type": "code",
   "execution_count": null,
   "id": "8e301d53",
   "metadata": {},
   "outputs": [],
   "source": [
    "Q7\n",
    "both will results 'spamspamspam'"
   ]
  },
  {
   "cell_type": "code",
   "execution_count": null,
   "id": "44a41e16",
   "metadata": {},
   "outputs": [],
   "source": [
    "Q8\n",
    "numbers cant be declared as variable names in python. "
   ]
  },
  {
   "cell_type": "code",
   "execution_count": null,
   "id": "e788687f",
   "metadata": {},
   "outputs": [],
   "source": [
    "Q9\n",
    "for interger int(), for floating- point number float(), for string str()"
   ]
  },
  {
   "cell_type": "code",
   "execution_count": null,
   "id": "0f93400e",
   "metadata": {},
   "outputs": [],
   "source": [
    "Q10\n",
    "because strings cant be concatenated with integers.\n",
    "fix: 'I have eaten'  + '99' +  'burritos.'"
   ]
  }
 ],
 "metadata": {
  "kernelspec": {
   "display_name": "Python 3 (ipykernel)",
   "language": "python",
   "name": "python3"
  },
  "language_info": {
   "codemirror_mode": {
    "name": "ipython",
    "version": 3
   },
   "file_extension": ".py",
   "mimetype": "text/x-python",
   "name": "python",
   "nbconvert_exporter": "python",
   "pygments_lexer": "ipython3",
   "version": "3.9.12"
  }
 },
 "nbformat": 4,
 "nbformat_minor": 5
}
