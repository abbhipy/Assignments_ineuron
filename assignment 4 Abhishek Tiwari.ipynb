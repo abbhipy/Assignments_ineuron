{
 "cells": [
  {
   "cell_type": "code",
   "execution_count": null,
   "id": "38a5a17c",
   "metadata": {},
   "outputs": [],
   "source": [
    "#q1- \n",
    "[] is container of list items\n",
    "eg: list1 = [1,5,5.4,'abhi']"
   ]
  },
  {
   "cell_type": "code",
   "execution_count": 3,
   "id": "fb40290c",
   "metadata": {},
   "outputs": [
    {
     "name": "stdout",
     "output_type": "stream",
     "text": [
      "[2, 4, 'hello', 6, 8, 10]\n"
     ]
    }
   ],
   "source": [
    "#q2-\n",
    "spam = [2,4,6,8,10]\n",
    "spam.insert(2, 'hello')\n",
    "print(spam)"
   ]
  },
  {
   "cell_type": "code",
   "execution_count": 2,
   "id": "5db7cce3",
   "metadata": {},
   "outputs": [
    {
     "data": {
      "text/plain": [
       "'d'"
      ]
     },
     "execution_count": 2,
     "metadata": {},
     "output_type": "execute_result"
    }
   ],
   "source": [
    "spam = ['a','b','c','d']\n",
    "#q3-\n",
    "spam[int(int('3'*2)/11)]\n",
    "#ans 'd'\n",
    "#q4-"
   ]
  },
  {
   "cell_type": "code",
   "execution_count": 3,
   "id": "6d58022c",
   "metadata": {},
   "outputs": [
    {
     "data": {
      "text/plain": [
       "'d'"
      ]
     },
     "execution_count": 3,
     "metadata": {},
     "output_type": "execute_result"
    }
   ],
   "source": [
    "#q4-\n",
    "spam[-1]"
   ]
  },
  {
   "cell_type": "code",
   "execution_count": 4,
   "id": "bdaa315a",
   "metadata": {},
   "outputs": [
    {
     "data": {
      "text/plain": [
       "['a', 'b']"
      ]
     },
     "execution_count": 4,
     "metadata": {},
     "output_type": "execute_result"
    }
   ],
   "source": [
    "#q5-\n",
    "spam[:2]"
   ]
  },
  {
   "cell_type": "code",
   "execution_count": 9,
   "id": "b8a244ed",
   "metadata": {},
   "outputs": [],
   "source": [
    "bacon = [3.14,  'cat', 11, 'cat',True]"
   ]
  },
  {
   "cell_type": "code",
   "execution_count": 10,
   "id": "7724dcec",
   "metadata": {},
   "outputs": [
    {
     "data": {
      "text/plain": [
       "1"
      ]
     },
     "execution_count": 10,
     "metadata": {},
     "output_type": "execute_result"
    }
   ],
   "source": [
    "#q6-\n",
    "bacon.index('cat')"
   ]
  },
  {
   "cell_type": "code",
   "execution_count": 11,
   "id": "357c46aa",
   "metadata": {},
   "outputs": [],
   "source": [
    "#q7-\n",
    "bacon.append(99)"
   ]
  },
  {
   "cell_type": "code",
   "execution_count": 12,
   "id": "2d25bd01",
   "metadata": {},
   "outputs": [
    {
     "data": {
      "text/plain": [
       "[3.14, 'cat', 11, 'cat', True, 99]"
      ]
     },
     "execution_count": 12,
     "metadata": {},
     "output_type": "execute_result"
    }
   ],
   "source": [
    "bacon"
   ]
  },
  {
   "cell_type": "code",
   "execution_count": 13,
   "id": "4dc9dfc1",
   "metadata": {},
   "outputs": [],
   "source": [
    "#q8-\n",
    "bacon.remove('cat')"
   ]
  },
  {
   "cell_type": "code",
   "execution_count": 14,
   "id": "dbf29fde",
   "metadata": {},
   "outputs": [
    {
     "data": {
      "text/plain": [
       "[3.14, 11, 'cat', True, 99]"
      ]
     },
     "execution_count": 14,
     "metadata": {},
     "output_type": "execute_result"
    }
   ],
   "source": [
    "bacon"
   ]
  },
  {
   "cell_type": "code",
   "execution_count": null,
   "id": "80fbbe87",
   "metadata": {},
   "outputs": [],
   "source": [
    "#q9-\n",
    "concatenation = addning 2 lists eg l1+l2"
   ]
  },
  {
   "cell_type": "code",
   "execution_count": 1,
   "id": "353fe8c7",
   "metadata": {},
   "outputs": [],
   "source": [
    "a1 =[1,2,3]\n",
    "a2 = [4,5,6]\n",
    "a3 = a1+a2"
   ]
  },
  {
   "cell_type": "code",
   "execution_count": 2,
   "id": "15bd45ce",
   "metadata": {},
   "outputs": [
    {
     "name": "stdout",
     "output_type": "stream",
     "text": [
      "[1, 2, 3, 4, 5, 6]\n"
     ]
    }
   ],
   "source": [
    "print(a3)"
   ]
  },
  {
   "cell_type": "code",
   "execution_count": 3,
   "id": "d2444725",
   "metadata": {},
   "outputs": [
    {
     "ename": "SyntaxError",
     "evalue": "invalid syntax (155293.py, line 1)",
     "output_type": "error",
     "traceback": [
      "\u001b[1;36m  Input \u001b[1;32mIn [3]\u001b[1;36m\u001b[0m\n\u001b[1;33m    replication = repeates the list\u001b[0m\n\u001b[1;37m                           ^\u001b[0m\n\u001b[1;31mSyntaxError\u001b[0m\u001b[1;31m:\u001b[0m invalid syntax\n"
     ]
    }
   ],
   "source": [
    "replication = repeates the list\n",
    "l1 * 3"
   ]
  },
  {
   "cell_type": "code",
   "execution_count": 4,
   "id": "25d3cc48",
   "metadata": {},
   "outputs": [
    {
     "ename": "SyntaxError",
     "evalue": "cannot assign to function call (2978276386.py, line 2)",
     "output_type": "error",
     "traceback": [
      "\u001b[1;36m  Input \u001b[1;32mIn [4]\u001b[1;36m\u001b[0m\n\u001b[1;33m    append() = add an item at the end of a list\u001b[0m\n\u001b[1;37m    ^\u001b[0m\n\u001b[1;31mSyntaxError\u001b[0m\u001b[1;31m:\u001b[0m cannot assign to function call\n"
     ]
    }
   ],
   "source": [
    "#q10-\n",
    "append() = add an item at the end of a list\n",
    "insert(index , item) = add an item at the given index"
   ]
  },
  {
   "cell_type": "code",
   "execution_count": 5,
   "id": "a2a36fb3",
   "metadata": {},
   "outputs": [
    {
     "data": {
      "text/plain": [
       "[4, 5, 6]"
      ]
     },
     "execution_count": 5,
     "metadata": {},
     "output_type": "execute_result"
    }
   ],
   "source": [
    "a2"
   ]
  },
  {
   "cell_type": "code",
   "execution_count": null,
   "id": "2f7fc3b7",
   "metadata": {},
   "outputs": [],
   "source": [
    "#q11-\n",
    "remove and pop methods"
   ]
  },
  {
   "cell_type": "code",
   "execution_count": 22,
   "id": "cde1c522",
   "metadata": {},
   "outputs": [],
   "source": [
    "#q12-\n",
    "#both values are identical in this sense.\n",
    "x1 = [1,2,3,4]\n",
    "x2 = 'sudh'"
   ]
  },
  {
   "cell_type": "code",
   "execution_count": 28,
   "id": "1c088a39",
   "metadata": {},
   "outputs": [
    {
     "data": {
      "text/plain": [
       "[1, 2, 3, 4]"
      ]
     },
     "execution_count": 28,
     "metadata": {},
     "output_type": "execute_result"
    }
   ],
   "source": [
    "x1[0:4]"
   ]
  },
  {
   "cell_type": "code",
   "execution_count": 30,
   "id": "014ea765",
   "metadata": {},
   "outputs": [
    {
     "data": {
      "text/plain": [
       "'sudh'"
      ]
     },
     "execution_count": 30,
     "metadata": {},
     "output_type": "execute_result"
    }
   ],
   "source": [
    "x2[0:4]"
   ]
  },
  {
   "cell_type": "code",
   "execution_count": null,
   "id": "f1a52316",
   "metadata": {},
   "outputs": [],
   "source": [
    "#q13-\n",
    "tuple - immutable\n",
    "list - mutable"
   ]
  },
  {
   "cell_type": "code",
   "execution_count": 1,
   "id": "bd1a929e",
   "metadata": {},
   "outputs": [],
   "source": [
    "#q14-\n",
    "t1 = (42)"
   ]
  },
  {
   "cell_type": "code",
   "execution_count": 6,
   "id": "26bc066f",
   "metadata": {},
   "outputs": [
    {
     "data": {
      "text/plain": [
       "(4, 5, 6)"
      ]
     },
     "execution_count": 6,
     "metadata": {},
     "output_type": "execute_result"
    }
   ],
   "source": [
    "#q15-\n",
    "# by type conversion.\n",
    "tuple(a2)"
   ]
  },
  {
   "cell_type": "code",
   "execution_count": 2,
   "id": "1fca5c8d",
   "metadata": {},
   "outputs": [
    {
     "data": {
      "text/plain": [
       "[1, 2, 3, 4]"
      ]
     },
     "execution_count": 2,
     "metadata": {},
     "output_type": "execute_result"
    }
   ],
   "source": [
    "t3 = (1,2,3,4)\n",
    "list(t3)"
   ]
  },
  {
   "cell_type": "code",
   "execution_count": null,
   "id": "34150689",
   "metadata": {},
   "outputs": [],
   "source": [
    "#q16-\n",
    "reference to the list"
   ]
  }
 ],
 "metadata": {
  "kernelspec": {
   "display_name": "Python 3 (ipykernel)",
   "language": "python",
   "name": "python3"
  },
  "language_info": {
   "codemirror_mode": {
    "name": "ipython",
    "version": 3
   },
   "file_extension": ".py",
   "mimetype": "text/x-python",
   "name": "python",
   "nbconvert_exporter": "python",
   "pygments_lexer": "ipython3",
   "version": "3.9.12"
  }
 },
 "nbformat": 4,
 "nbformat_minor": 5
}
