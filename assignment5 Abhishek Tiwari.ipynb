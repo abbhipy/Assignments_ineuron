{
 "cells": [
  {
   "cell_type": "code",
   "execution_count": 2,
   "id": "8827b258",
   "metadata": {},
   "outputs": [],
   "source": [
    "#Q1-\n",
    "dict1 = {}"
   ]
  },
  {
   "cell_type": "code",
   "execution_count": 4,
   "id": "10e851a6",
   "metadata": {},
   "outputs": [],
   "source": [
    "#q2-\n",
    "dict2 = {'foo': 42}\n",
    "\n",
    "value is 42"
   ]
  },
  {
   "cell_type": "code",
   "execution_count": null,
   "id": "11882f4c",
   "metadata": {},
   "outputs": [],
   "source": [
    "#q3-\n",
    "dictionary comes in key and value pair and accessed via key - values. orders are not there.\n",
    "list is a ordered sequence of values that can be accessed with their indices."
   ]
  },
  {
   "cell_type": "code",
   "execution_count": null,
   "id": "4dfbb44c",
   "metadata": {},
   "outputs": [],
   "source": [
    "#q4-\n",
    "it will give key value error"
   ]
  },
  {
   "cell_type": "code",
   "execution_count": 8,
   "id": "6cb5b3c4",
   "metadata": {},
   "outputs": [],
   "source": [
    "#q5-\n",
    "spam = {'cat':45}\n",
    "\n",
    "both are same because by default in operator searches for keys in dictionary"
   ]
  },
  {
   "cell_type": "code",
   "execution_count": 9,
   "id": "b6687fc2",
   "metadata": {},
   "outputs": [
    {
     "data": {
      "text/plain": [
       "True"
      ]
     },
     "execution_count": 9,
     "metadata": {},
     "output_type": "execute_result"
    }
   ],
   "source": [
    "'cat' in spam"
   ]
  },
  {
   "cell_type": "code",
   "execution_count": 10,
   "id": "48cc2d3d",
   "metadata": {},
   "outputs": [
    {
     "data": {
      "text/plain": [
       "True"
      ]
     },
     "execution_count": 10,
     "metadata": {},
     "output_type": "execute_result"
    }
   ],
   "source": [
    "'cat' in spam.keys()"
   ]
  },
  {
   "cell_type": "code",
   "execution_count": null,
   "id": "64279297",
   "metadata": {},
   "outputs": [],
   "source": [
    "#q6-\n",
    "'cat' > searches for keys\n",
    "'cat' in spam.values() > searches for existence of values in dictionary"
   ]
  },
  {
   "cell_type": "code",
   "execution_count": 14,
   "id": "ac85a052",
   "metadata": {},
   "outputs": [],
   "source": [
    "#q7-\n",
    "if 'color' not in spam:\n",
    "    spam['color']= 'black'"
   ]
  },
  {
   "cell_type": "code",
   "execution_count": 15,
   "id": "9560a3c3",
   "metadata": {},
   "outputs": [
    {
     "data": {
      "text/plain": [
       "{'cat': 45, 'color': 'black'}"
      ]
     },
     "execution_count": 15,
     "metadata": {},
     "output_type": "execute_result"
    }
   ],
   "source": [
    "spam"
   ]
  },
  {
   "cell_type": "code",
   "execution_count": 17,
   "id": "2367984a",
   "metadata": {},
   "outputs": [
    {
     "data": {
      "text/plain": [
       "'black'"
      ]
     },
     "execution_count": 17,
     "metadata": {},
     "output_type": "execute_result"
    }
   ],
   "source": [
    "#shortcut - \n",
    "spam.setdefault('color','black')\n"
   ]
  },
  {
   "cell_type": "code",
   "execution_count": null,
   "id": "db030f3a",
   "metadata": {},
   "outputs": [],
   "source": [
    "#q8-\n",
    "module name is pprint\n"
   ]
  }
 ],
 "metadata": {
  "kernelspec": {
   "display_name": "Python 3 (ipykernel)",
   "language": "python",
   "name": "python3"
  },
  "language_info": {
   "codemirror_mode": {
    "name": "ipython",
    "version": 3
   },
   "file_extension": ".py",
   "mimetype": "text/x-python",
   "name": "python",
   "nbconvert_exporter": "python",
   "pygments_lexer": "ipython3",
   "version": "3.9.12"
  }
 },
 "nbformat": 4,
 "nbformat_minor": 5
}
